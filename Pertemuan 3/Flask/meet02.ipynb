{
 "cells": [
  {
   "cell_type": "code",
   "execution_count": 35,
   "metadata": {},
   "outputs": [],
   "source": [
    "nilai = int(input(\"Masukan nilai ; \")) \n",
    "if nilai > 80:\n",
    "    nilaiAkhir = \"A\"\n",
    "elif nilai > 60 and nilai <= 80:\n",
    "    nilaiAkhir = \"B\"  \n",
    "elif nilai > 50 and nilai <= 60:\n",
    "    nilaiAkhir = \"C\"\n",
    "elif nilai > 40 and nilai <= 60:\n",
    "    nilaiAkhir = \"D\"    \n",
    "else:\n",
    "    nilaiAkhir = \"E\"   \n",
    "\n",
    "\n",
    "\n",
    "print(f'Nilai akhir : {nilaiAkhir}')\n",
    "\n",
    "\n"
   ]
  },
  {
   "cell_type": "code",
   "execution_count": 2,
   "metadata": {},
   "outputs": [
    {
     "name": "stdout",
     "output_type": "stream",
     "text": [
      "ini perulangan ke-0\n",
      "ini perulangan ke-1\n",
      "ini perulangan ke-2\n",
      "ini perulangan ke-3\n",
      "ini perulangan ke-4\n",
      "ini perulangan ke-5\n",
      "ini perulangan ke-6\n",
      "ini perulangan ke-7\n",
      "ini perulangan ke-8\n",
      "ini perulangan ke-9\n"
     ]
    }
   ],
   "source": [
    "for i in range(0, 10):\n",
    "     print(f'ini perulangan ke-{i}')"
   ]
  },
  {
   "cell_type": "code",
   "execution_count": 4,
   "metadata": {},
   "outputs": [
    {
     "name": "stdout",
     "output_type": "stream",
     "text": [
      "ini perulangan ke-0\n",
      "ini perulangan ke-1\n",
      "ini perulangan ke-2\n",
      "ini perulangan ke-3\n",
      "ini perulangan ke-4\n",
      "ini perulangan ke-5\n",
      "ini perulangan ke-6\n",
      "ini perulangan ke-7\n",
      "ini perulangan ke-8\n",
      "ini perulangan ke-9\n"
     ]
    }
   ],
   "source": [
    "data = [0,1,2,3,4,5,6,7,8,9,]\n",
    "for i in data:\n",
    "     print(f'ini perulangan ke-{i}')"
   ]
  },
  {
   "cell_type": "code",
   "execution_count": 7,
   "metadata": {},
   "outputs": [
    {
     "name": "stdout",
     "output_type": "stream",
     "text": [
      "Mahasisiwa Budi : B\n",
      "Mahasisiwa Anton : C\n",
      "Mahasisiwa Anfi : D\n",
      "Mahasisiwa Fenfoi : A\n",
      "Mahasisiwa Rafkli : E\n"
     ]
    }
   ],
   "source": [
    "daftarmahasiswa = [\"Budi\" , \"Anton\", \"Anfi\", \"Fenfoi\", \"Rafkli\"]\n",
    "nilaiAkhir = [\"B\", \"C\", \"D\", \"A\", \"E\",]\n",
    "for i in range(0, len(daftarmahasiswa)):\n",
    "    print(f\"Mahasisiwa {daftarmahasiswa[i]} : {nilaiAkhir[i]}\")"
   ]
  }
 ],
 "metadata": {
  "kernelspec": {
   "display_name": "env",
   "language": "python",
   "name": "python3"
  },
  "language_info": {
   "name": "python",
   "version": "3.10.7"
  }
 },
 "nbformat": 4,
 "nbformat_minor": 2
}
